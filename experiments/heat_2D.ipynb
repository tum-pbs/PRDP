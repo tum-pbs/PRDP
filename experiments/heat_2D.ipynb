{
 "cells": [
  {
   "cell_type": "code",
   "execution_count": 1,
   "metadata": {
    "metadata": {}
   },
   "outputs": [],
   "source": [
    "import jax\n",
    "import jaxopt\n",
    "import jax.numpy as jnp\n",
    "import numpy as np\n",
    "import optax\n",
    "import equinox as eqx\n",
    "import matplotlib.pyplot as plt\n",
    "%matplotlib inline\n",
    "# import pandas as pd\n",
    "from time import process_time\n",
    "\n",
    "from src.linear_solvers_scan import forward_solve_SD, forward_solve_jacobi\n",
    "from src.BTCS_Stepper import BTCS_Stepper, RandomTruncatedFourierSeries, rollout, dataloader\n",
    "from src.prdp import should_refine\n",
    "\n",
    "# add magic comments for autoreload\n",
    "%load_ext autoreload\n",
    "%autoreload 2"
   ]
  },
  {
   "cell_type": "code",
   "execution_count": null,
   "metadata": {},
   "outputs": [],
   "source": [
    "jax.devices()"
   ]
  },
  {
   "cell_type": "code",
   "execution_count": null,
   "metadata": {},
   "outputs": [],
   "source": [
    "N_DOF = 30   # (along each dimension)\n",
    "MLP_WIDTH = 3000\n",
    "grid_1d = jnp.linspace(0, 1, N_DOF+2)[1:-1]"
   ]
  },
  {
   "cell_type": "markdown",
   "metadata": {},
   "source": [
    "## Heat equation\n",
    "\n",
    "$$\n",
    "\\frac{\\partial u}{\\partial t} = \\alpha \\nabla^2 u\n",
    "$$\n",
    "\n",
    "where $u$ is the temperature, $\\alpha$ is the thermal diffusivity, and $\\nabla^2$ is the Laplacian operator.\n",
    "\n",
    "## 1D\n",
    "\n",
    "$$\n",
    "\\frac{\\partial u}{\\partial t} = \\alpha \\frac{\\partial^2 u}{\\partial x^2}\n",
    "$$\n",
    "\n",
    "#### Discretization\n",
    "\n",
    "$$\n",
    "\\frac{u_i^{n} - u_i^{n-1}}{\\Delta t} = \\alpha \\frac{u_{i+1}^n - 2u_i^n + u_{i-1}^n}{\\Delta x^2}\n",
    "$$\n",
    "\n",
    "Then\n",
    "$$\n",
    "u_i^{n} - \\frac{\\alpha \\Delta t}{\\Delta x^2} \\left( u_{i+1}^n - 2u_i^n + u_{i-1}^n \\right) = u_i^{n-1}\n",
    "$$\n",
    "\n",
    "## 2D\n",
    "\n",
    "$$\n",
    "\\frac{\\partial u}{\\partial t} = \\alpha \\left( \\frac{\\partial^2 u}{\\partial x^2} + \\frac{\\partial^2 u}{\\partial y^2} \\right)\n",
    "$$\n",
    "\n",
    "#### Discretization: BTCS\n",
    "\n",
    "$$\n",
    "\\frac{u_{i,j}^{n} - u_{i,j}^{n-1}}{\\Delta t} = \\alpha \\left( \\frac{u_{i+1,j}^{n} - 2u_{i,j}^{n} + u_{i-1,j}^{n}}{\\Delta x^2} + \\frac{u_{i,j+1}^{n} - 2u_{i,j}^{n} + u_{i,j-1}^{n}}{\\Delta y^2} \\right)\n",
    "$$\n",
    "\n",
    "Using $\\Delta y = \\Delta x$\n",
    "\n",
    "$$\n",
    "u_{i,j}^{n} - \\frac{\\alpha \\Delta t}{\\Delta x^2} \\left( u_{i+1,j}^{n} + u_{i-1,j}^{n} + u_{i,j+1}^{n} + u_{i,j-1}^{n} - 4u_{i,j}^{n} \\right) = u_{i,j}^{n-1}\n",
    "$$\n"
   ]
  },
  {
   "cell_type": "markdown",
   "metadata": {},
   "source": [
    "$$\n",
    "u_0(x,y) = sin(2 \\pi x) sin(2 \\pi y)\n",
    "$$"
   ]
  },
  {
   "cell_type": "code",
   "execution_count": null,
   "metadata": {
    "metadata": {}
   },
   "outputs": [],
   "source": [
    "# create sinusoidal initial condition on a 2D grid\n",
    "grid_2d = jnp.meshgrid(grid_1d, grid_1d, indexing='ij')\n",
    "u_0_2d = jnp.sin(2 * jnp.pi * grid_2d[0]) * jnp.sin(2 * jnp.pi * grid_2d[1])\n",
    "plt.figure(); plt.title('Initial condition')\n",
    "plt.imshow(u_0_2d, origin='lower')\n",
    "plt.colorbar()"
   ]
  },
  {
   "cell_type": "code",
   "execution_count": 5,
   "metadata": {
    "metadata": {}
   },
   "outputs": [],
   "source": [
    "btcs_stepper = BTCS_Stepper(num_points=N_DOF, dim=2)\n",
    "u_0 = jnp.reshape(u_0_2d, -1) # flattening the 2D initial condition\n",
    "assert u_0.shape == (N_DOF**2,)"
   ]
  },
  {
   "cell_type": "code",
   "execution_count": 6,
   "metadata": {
    "metadata": {}
   },
   "outputs": [],
   "source": [
    "# test the forward solve - direct and solver\n",
    "N_STEPS = 50\n",
    "trj_direct = rollout(btcs_stepper, N_STEPS, include_init=True)(u_0)\n",
    "trj_solver = rollout(btcs_stepper.jacobi_dynamic, N_STEPS, include_init=True, solver_iterations=20)(u_0)\n",
    "assert trj_direct.shape == trj_solver.shape == (N_STEPS+1, N_DOF**2)\n",
    "\n",
    "rel_error = jnp.abs(trj_direct - trj_solver) / jnp.abs(trj_direct)"
   ]
  },
  {
   "cell_type": "code",
   "execution_count": 7,
   "metadata": {
    "metadata": {}
   },
   "outputs": [],
   "source": [
    "# plot the time steps as 2D animations\n",
    "trj_direct_2d = jnp.reshape(trj_direct, (N_STEPS+1, N_DOF, N_DOF))\n",
    "trj_solver_2d = jnp.reshape(trj_solver, (N_STEPS+1, N_DOF, N_DOF))\n",
    "rel_error_2d = jnp.reshape(rel_error, (N_STEPS+1, N_DOF, N_DOF))\n",
    "\n",
    "# create a figure and axes\n",
    "fig = plt.figure(figsize=(12,5))\n",
    "ax1 = plt.subplot(1,2,1)   \n",
    "ax2 = plt.subplot(1,2,2)\n",
    "\n",
    "ax1.set_xlabel('X')\n",
    "ax1.set_ylabel('Y')\n",
    "ax1.set_title('Direct')\n",
    "ax2.set_xlabel('X')\n",
    "ax2.set_ylabel('Y')\n",
    "ax2.set_title('Linear Solver')\n",
    "txt_title = fig.suptitle('Time Step: 0')\n",
    "\n",
    "# create an animation\n",
    "im1 = ax1.imshow(trj_direct_2d[0], origin='lower', animated=True)\n",
    "im2 = ax2.imshow(trj_solver_2d[0], origin='lower', animated=True)\n",
    "plt.close()\n",
    "\n",
    "def animate(i):\n",
    "    im1.set_array(trj_direct_2d[i])\n",
    "    im2.set_array(trj_solver_2d[i])\n",
    "    txt_title.set_text(f'Time Step: {i}')\n",
    "    return (im1, im2)\n",
    "\n",
    "from matplotlib.animation import FuncAnimation\n",
    "anim = FuncAnimation(fig, animate, frames=N_STEPS+1, interval=100, blit=True)\n",
    "\n",
    "# from IPython.display import HTML\n",
    "# HTML(anim.to_html5_video())\n"
   ]
  },
  {
   "cell_type": "markdown",
   "metadata": {},
   "source": [
    "# Define training and test data\n",
    "Each $u^0$ is the sum of first `num_modes` sine and cosine modes of the domain with random amplitudes.\n",
    "\n",
    "### 1D\n",
    "\n",
    "$$\n",
    "u_0(x) = \\sum_n ( a_n \\sin(2n \\pi x) + b_n \\cos(2n \\pi x) )\n",
    "$$\n",
    "\n",
    "### 2D\n",
    "\n",
    "$$\n",
    "u_0(x,y) = \\sum_n ( a_n \\sin(2n \\pi x) \\sin(2n \\pi y) + b_n \\cos(2n \\pi x) \\cos(2n \\pi y) + c_n \\sin(2n \\pi x) \\cos(2n \\pi y) + d_n \\cos(2n \\pi x) \\sin(2n \\pi y) )\n",
    "$$\n",
    "\n",
    "where $a_n$, $b_n$, ... are sampled from $U(-1,1)$"
   ]
  },
  {
   "cell_type": "markdown",
   "metadata": {},
   "source": [
    "### Create training set and dataloader"
   ]
  },
  {
   "cell_type": "code",
   "execution_count": 8,
   "metadata": {
    "metadata": {}
   },
   "outputs": [],
   "source": [
    "ic_generator = RandomTruncatedFourierSeries(domain_extent=1.0, num_modes=5, dim=2) "
   ]
  },
  {
   "cell_type": "code",
   "execution_count": 9,
   "metadata": {
    "metadata": {}
   },
   "outputs": [],
   "source": [
    "NUM_TRAINING_SAMPLES = 200\n",
    "\n",
    "# Training Data: X's\n",
    "seed = 1337\n",
    "ic_master_key = jax.random.PRNGKey(seed)\n",
    "ic_keys = jax.random.split(ic_master_key, NUM_TRAINING_SAMPLES)\n",
    "ic_funs = jax.vmap(ic_generator)(ic_keys) # list of functions that generate initial conditions on given grid\n",
    "ic_set_2d = jax.vmap(lambda f: f(grid_2d))(ic_funs) # vmap the list of functions to generate many initial conditions\n",
    "\n",
    "assert ic_set_2d.shape == (NUM_TRAINING_SAMPLES, N_DOF, N_DOF)"
   ]
  },
  {
   "cell_type": "code",
   "execution_count": null,
   "metadata": {
    "metadata": {}
   },
   "outputs": [],
   "source": [
    "# 1D: Plot a subset of the intial conditions\n",
    "# plt.plot(grid, ic_set[5:10].T);\n",
    "\n",
    "# 2D: Plot an initial condition\n",
    "fig,axs = plt.subplots(1,5)\n",
    "# set figure size\n",
    "fig.set_figwidth(15); fig.set_figheight(3)\n",
    "fig.suptitle('Some Initial Conditions from the training set')\n",
    "axs_index = 0\n",
    "for i in jax.random.randint(ic_master_key, shape=(5,), minval=0, maxval=NUM_TRAINING_SAMPLES):\n",
    "    axs[axs_index].imshow(ic_set_2d[i], origin='lower')\n",
    "    axs[axs_index].axis('off')\n",
    "    axs[axs_index].set_title(f'IC {i}')\n",
    "    axs_index += 1"
   ]
  },
  {
   "cell_type": "code",
   "execution_count": 11,
   "metadata": {
    "metadata": {}
   },
   "outputs": [],
   "source": [
    "# flatten ic_set\n",
    "ic_set = jnp.reshape(ic_set_2d, (NUM_TRAINING_SAMPLES, N_DOF**2))\n",
    "# Training Data: Y's\n",
    "data_trjs_direct = jax.vmap(rollout(btcs_stepper, 2, include_init=True))(ic_set)"
   ]
  },
  {
   "cell_type": "markdown",
   "metadata": {},
   "source": [
    "### Generate validation set"
   ]
  },
  {
   "cell_type": "code",
   "execution_count": 12,
   "metadata": {
    "metadata": {}
   },
   "outputs": [],
   "source": [
    "N_TEST_SAMPLES = 5\n",
    "# Validation Data: X's\n",
    "test_ic_master_key = jax.random.PRNGKey(seed + 1)\n",
    "test_ic_keys = jax.random.split(test_ic_master_key, N_TEST_SAMPLES)\n",
    "test_ic_funs = jax.vmap(ic_generator)(test_ic_keys)\n",
    "test_ic_set_2d = jax.vmap(lambda f: f(grid_2d))(test_ic_funs)\n",
    "\n",
    "assert test_ic_set_2d.shape == (N_TEST_SAMPLES, N_DOF, N_DOF)\n",
    "\n",
    "val_ic_set = jnp.reshape(test_ic_set_2d, (N_TEST_SAMPLES, N_DOF**2))\n",
    "# Validation Data: Y's\n",
    "val_data_trjs = jax.vmap(rollout(btcs_stepper, 2, include_init=True))(val_ic_set)"
   ]
  },
  {
   "cell_type": "code",
   "execution_count": null,
   "metadata": {
    "metadata": {}
   },
   "outputs": [],
   "source": [
    "val_data_trjs.shape"
   ]
  },
  {
   "cell_type": "code",
   "execution_count": 14,
   "metadata": {
    "metadata": {}
   },
   "outputs": [],
   "source": [
    "@eqx.filter_jit\n",
    "def val_loss(m, val_data):\n",
    "    \"\"\"Compute the loss on the test set.\n",
    "\n",
    "    Args:\n",
    "        m: the model to evaluate\n",
    "        val_data: the test data, with shape (n_samples, n_steps, n_dof)\n",
    "    \"\"\"\n",
    "    print(\"compiling val_loss()\")\n",
    "    val_ic_set = val_data[:,0]\n",
    "    pred_trajectories = jax.vmap(rollout(m, 2, include_init=True))(val_ic_set)\n",
    "    pred_1_errors = jnp.linalg.norm(pred_trajectories[:, 1] - val_data[:, 1], axis=1) # normed over n_dof\n",
    "    pred_2_errors = jnp.linalg.norm(pred_trajectories[:, 2] - val_data[:, 2], axis=1) # normed over n_dof\n",
    "    \n",
    "    data_1_norms  = jnp.linalg.norm(val_data[:, 0], axis=1) # norm over n_dof\n",
    "    data_2_norms = jnp.linalg.norm(val_data[:, 1], axis=1) # norm over n_dof\n",
    "    \n",
    "    pred_1_mse_normalized = jnp.mean((pred_1_errors**2 / data_1_norms**2), axis=0) # mean squared for over all samples\n",
    "    pred_2_mse_normalized = jnp.mean((pred_2_errors**2 / data_2_norms**2), axis=0) # mean squared for over all samples\n",
    "    \n",
    "    return jnp.hstack((pred_1_mse_normalized, pred_2_mse_normalized))"
   ]
  },
  {
   "cell_type": "code",
   "execution_count": 15,
   "metadata": {
    "metadata": {}
   },
   "outputs": [],
   "source": [
    "import jax.tree_util as jtu\n",
    "def count_parameters(model: eqx.Module):\n",
    "    return sum(p.size for p in jtu.tree_leaves(eqx.filter(model, eqx.is_array)))"
   ]
  },
  {
   "cell_type": "markdown",
   "metadata": {},
   "source": [
    "## Residuum plot"
   ]
  },
  {
   "cell_type": "code",
   "execution_count": null,
   "metadata": {},
   "outputs": [],
   "source": [
    "SOLVER_NAME = 'jacobi'\n",
    "def relative_residuum_hist(state, n_inner):\n",
    "    res_2 = btcs_stepper.residuum_history(state, SOLVER_NAME, n_inner) # (n_iter+1, n_dof)\n",
    "    rel_residuum_hist = jnp.linalg.norm(res_2, axis=1) / jnp.linalg.norm(state)\n",
    "    return rel_residuum_hist # (n_iter+1,)\n",
    "\n",
    "pred_1_set = data_trjs_direct[:, 1]\n",
    "res_hist_all = jax.vmap(relative_residuum_hist, in_axes=(0, None))(pred_1_set, 80) # shape: (n_samples, n_iter+1)\n",
    "res_hist_mean = jnp.mean(res_hist_all, axis=0)\n",
    "res_hist_std = jnp.std(res_hist_all, axis=0)\n",
    "\n",
    "fig, ax = plt.subplots(figsize=(3,3))\n",
    "ax.plot(res_hist_mean, label=\"primal residuum\")\n",
    "ax.fill_between(range(res_hist_mean.shape[0]), res_hist_mean - res_hist_std, res_hist_mean + res_hist_std, alpha=0.2)\n",
    "ax.set_yscale(\"log\")\n",
    "ax.set_xlabel(\"# iterations\")\n",
    "ax.set_title(f\"Heat 2D, Residuums, solver={SOLVER_NAME}\")\n",
    "\n",
    "ax.grid(which='major', axis='y')\n",
    "ax.minorticks_on()\n",
    "ax.grid(which='both', axis='x', linestyle='--', linewidth=0.5)\n",
    "ax.grid(which='major', axis='both', linestyle='-', linewidth=1.0)\n",
    "\n",
    "# fig.savefig(f\"figures/heat_2d__residuum__{SOLVER_NAME}.pdf\", bbox_inches=\"tight\")"
   ]
  },
  {
   "cell_type": "markdown",
   "metadata": {},
   "source": [
    "# Mix-Chain differentiable physics training\n",
    "One network followed by one iterative solver step\n"
   ]
  },
  {
   "attachments": {
    "image-2.png": {
     "image/png": "[encoded data removed]"
    }
   },
   "cell_type": "markdown",
   "metadata": {},
   "source": [
    "\n",
    "![image-2.png](attachment:image-2.png)"
   ]
  },
  {
   "cell_type": "code",
   "execution_count": 17,
   "metadata": {
    "metadata": {}
   },
   "outputs": [],
   "source": [
    "learning_rate = optax.exponential_decay(1e-3, 100, 0.9)\n",
    "optimizer = optax.adam(learning_rate)"
   ]
  },
  {
   "cell_type": "markdown",
   "metadata": {},
   "source": [
    "### Constant solver iterations"
   ]
  },
  {
   "cell_type": "code",
   "execution_count": null,
   "metadata": {
    "metadata": {}
   },
   "outputs": [],
   "source": [
    "def loss_fn(model, data):\n",
    "    ic = data[:, 0]\n",
    "    # Notice the difference, that the target is now two steps into the future\n",
    "    target = data[:, 2]\n",
    "\n",
    "    prediction_1 = jax.vmap(model)(ic)\n",
    "\n",
    "    # Here, you would then have your differentiable BTCS solver\n",
    "    prediction_2 = jax.vmap(btcs_stepper.jacobi, in_axes=(0, 0, None))(prediction_1, jnp.zeros_like(prediction_1), 20)\n",
    "\n",
    "    return jnp.mean((prediction_2 - target)**2)\n",
    "\n",
    "@eqx.filter_jit\n",
    "def update_fn(model, state, data):\n",
    "    loss, grad = eqx.filter_value_and_grad(loss_fn)(model, data)\n",
    "    updates, new_state = optimizer.update(grad, state, model)\n",
    "    new_model= eqx.apply_updates(model, updates)\n",
    "    return new_model, new_state, loss\n",
    "\n",
    "model_MLP = eqx.nn.MLP(in_size=N_DOF**2, out_size=N_DOF**2, width_size=MLP_WIDTH, depth=3, activation=jax.nn.relu, key=jax.random.PRNGKey(92))\n",
    "print(f\"number of model parameters = {count_parameters(model_MLP)}\")\n",
    "\n",
    "opt_state = optimizer.init(eqx.filter(model_MLP, eqx.is_array))\n",
    "\n",
    "N_EPOCHS = 100\n",
    "BATCH_SIZE = 25\n",
    "loss_history_solver = []\n",
    "rel_error_history_solver = []\n",
    "\n",
    "shuffle_key = jax.random.PRNGKey(42)\n",
    "for epoch in range(N_EPOCHS):\n",
    "    shuffle_key, subkey = jax.random.split(shuffle_key)\n",
    "    loss_mini_batch = []\n",
    "    for batch in dataloader(data_trjs_direct, key=subkey, batch_size=BATCH_SIZE):\n",
    "        model_MLP, opt_state, loss = update_fn(model_MLP, opt_state, batch)\n",
    "        # loss_history_solver.append(loss)\n",
    "        loss_mini_batch.append(loss)\n",
    "    loss_history_solver.append(np.mean(loss_mini_batch))\n",
    "    rel_error = val_loss(model_MLP, val_data_trjs)\n",
    "    rel_error_history_solver.append(rel_error)\n",
    "\n",
    "    print(f\"Epoch {epoch+1}/{N_EPOCHS}, loss: {loss}\")"
   ]
  },
  {
   "cell_type": "code",
   "execution_count": null,
   "metadata": {
    "metadata": {}
   },
   "outputs": [],
   "source": [
    "rel_error_history_solver = np.array(rel_error_history_solver)\n",
    "fig, ax = plt.subplots(1, 2, figsize=(12, 4))\n",
    "ax[0].plot(loss_history_solver)\n",
    "ax[0].set_yscale('log'); ax[0].grid()\n",
    "ax[0].set_xlabel('Epoch')\n",
    "ax[0].set_ylabel('Loss (minibatch averaged)')\n",
    "\n",
    "ax[1].plot(rel_error_history_solver[:, 0], label='1-step')\n",
    "ax[1].plot(rel_error_history_solver[:, 1], label='2-step')\n",
    "ax[1].set_yscale('log'); ax[1].grid()\n",
    "ax[1].set_xlabel('Epoch')\n",
    "ax[1].set_ylabel('Relative MSE Error')\n",
    "ax[1].legend()\n"
   ]
  },
  {
   "cell_type": "code",
   "execution_count": null,
   "metadata": {
    "metadata": {}
   },
   "outputs": [],
   "source": [
    "print(f\"Mean relative error: {val_loss(model_MLP, val_ic_set, val_data_trjs)}\")"
   ]
  },
  {
   "cell_type": "markdown",
   "metadata": {},
   "source": [
    "### Different constant N values"
   ]
  },
  {
   "cell_type": "code",
   "execution_count": 20,
   "metadata": {},
   "outputs": [],
   "source": [
    "def loss_fn(model, data, inner_iterations):\n",
    "    print(\"compiling loss_fn\")\n",
    "    ic = data[:, 0]\n",
    "    target = data[:, 2]\n",
    "    prediction_1 = jax.vmap(model)(ic) # batched forward pass # (batch_size, N_DOF)\n",
    "    prediction_2 = jax.vmap(btcs_stepper.jacobi_dynamic, in_axes=(0, None))(prediction_1, inner_iterations)\n",
    "    return jnp.mean((prediction_2 - target)**2) # MSE over batches as well as space\n",
    "\n",
    "@eqx.filter_jit\n",
    "def update_fn(model, state, data, inner_iterations):\n",
    "    print(\"compiling update_fn\")\n",
    "    loss, grad = eqx.filter_value_and_grad(loss_fn)(model, data, inner_iterations)\n",
    "    updates, new_state = optimizer.update(grad, state, model)\n",
    "    new_model= eqx.apply_updates(model, updates)\n",
    "    return new_model, new_state, loss"
   ]
  },
  {
   "cell_type": "code",
   "execution_count": null,
   "metadata": {
    "metadata": {}
   },
   "outputs": [],
   "source": [
    "# SEED_LIST = [1, 2, 25, 50, 1000, 1337, 2668, 3999, 12345, 54321]\n",
    "SEED_LIST = [1]\n",
    "N_INNER_LIST = [1,2,3,4,5,6,7,8,9,10,12,15,20,40,60]\n",
    "SAVE_RESULTS = False\n",
    "\n",
    "N_EPOCHS = 70\n",
    "BATCH_SIZE = 25\n",
    "\n",
    "for seed_count, seed in enumerate(SEED_LIST):\n",
    "    \n",
    "    print(f\"Training with seed {seed} ({seed_count+1} of {len(SEED_LIST)})\")\n",
    "    key = jax.random.PRNGKey(seed)\n",
    "    key, model_init_key = jax.random.split(key)\n",
    "    \n",
    "    losses_all_n = []\n",
    "    errors_all_n = []\n",
    "\n",
    "    # Loop over n_inner\n",
    "    for n_inner in N_INNER_LIST:\n",
    "        print(f\"\\nTraining with {n_inner} inner iterations\\n\")\n",
    "        \n",
    "        # initialize model\n",
    "        model_MLP = eqx.nn.MLP(\n",
    "            in_size=N_DOF**2, out_size=N_DOF**2, \n",
    "            width_size=MLP_WIDTH, depth=3, \n",
    "            activation=jax.nn.relu, \n",
    "            key=model_init_key,\n",
    "        )\n",
    "        \n",
    "        # initialize optimizer\n",
    "        opt_state = optimizer.init(eqx.filter(model_MLP, eqx.is_array))\n",
    "\n",
    "        # init metrics\n",
    "        loss_history = [loss_fn(model_MLP, data_trjs_direct, n_inner)]\n",
    "        error_history = [val_loss(model_MLP, val_data_trjs)]\n",
    "\n",
    "        # training loop\n",
    "        key, shuffle_key = jax.random.split(key)\n",
    "        for epoch in range(N_EPOCHS):\n",
    "            shuffle_key, subkey = jax.random.split(shuffle_key)\n",
    "            loss_mini_batch = []\n",
    "            for batch in dataloader(data_trjs_direct, key=subkey, batch_size=BATCH_SIZE):\n",
    "                model_MLP, opt_state, loss = update_fn(model_MLP, opt_state, batch, n_inner)\n",
    "                loss_mini_batch.append(loss)\n",
    "            \n",
    "            loss_history.append(np.mean(loss_mini_batch))\n",
    "            error_history.append(val_loss(model_MLP, val_data_trjs))\n",
    "            print(f\"Epoch {epoch+1}/{N_EPOCHS}, loss: {loss_history[-1]}, rel error: {error_history[-1]}\")\n",
    "        \n",
    "        losses_all_n.append(loss_history)\n",
    "        errors_all_n.append(np.array(error_history))\n",
    "    \n",
    "    # save results\n",
    "    losses_all_n = np.array(losses_all_n)\n",
    "    errors_all_n = np.array(errors_all_n) # shape (len(N_INNER_LIST), N_EPOCHS, 2)\n",
    "    if SAVE_RESULTS:\n",
    "        df = pd.DataFrame({\n",
    "            \"max_iter\": N_INNER_LIST,\n",
    "            \"losses\": list(losses_all_n),\n",
    "            \"1-step errors\": list(errors_all_n[:,:,0]),\n",
    "            \"2-step errors\": list(errors_all_n[:,:,1]),\n",
    "            \"seed\": seed,\n",
    "        })\n",
    "        file_name = f\"results/heat_2d_sep17_jacobi_unrolled/maxiter_constant__seed_{seed}.pkl\"\n",
    "        df.to_pickle(file_name)"
   ]
  },
  {
   "cell_type": "code",
   "execution_count": null,
   "metadata": {},
   "outputs": [],
   "source": [
    "# plot results of last seed\n",
    "\n",
    "errors_all_n = np.array(errors_all_n) # shape (len(N_INNER_LIST), N_EPOCHS, 2)\n",
    "\n",
    "fig, axs = plt.subplots(1, 3, figsize=(15, 5))\n",
    "\n",
    "for i, n_inner in enumerate(N_INNER_LIST):\n",
    "    axs[0].plot(losses_all_n[i], label=f\"{N_INNER_LIST[i]}\")\n",
    "    axs[1].plot(errors_all_n[i,:,0], label=f\"{N_INNER_LIST[i]}\")\n",
    "    axs[2].plot(errors_all_n[i,:,1], label=f\"{N_INNER_LIST[i]}\")\n",
    "\n",
    "axs[0].set_xlabel('Epoch'); axs[0].set_ylabel('Loss (minibatch avg.)'); \n",
    "axs[0].set_yscale('log'); axs[0].grid(); axs[0].set_ylim(1e-5, 1)\n",
    "\n",
    "axs[1].set_xlabel('Epoch'); axs[1].set_ylabel('1 Step nMSE');\n",
    "axs[2].set_xlabel('Epoch'); axs[2].set_ylabel('2-Step nMSE');\n",
    "axs[1].set_yscale('log'); axs[2].set_yscale('log');\n",
    "axs[1].grid(); axs[2].grid()\n",
    "axs[1].set_ylim(1e-3, 10); axs[2].set_ylim(1e-3, 10)\n",
    "\n",
    "plt.legend(bbox_to_anchor=(1.05, 1), loc='upper left')"
   ]
  },
  {
   "cell_type": "markdown",
   "metadata": {},
   "source": [
    "### PRDP"
   ]
  },
  {
   "cell_type": "code",
   "execution_count": 17,
   "metadata": {},
   "outputs": [],
   "source": [
    "N_MIN, N_STEP = 1,1"
   ]
  },
  {
   "cell_type": "code",
   "execution_count": null,
   "metadata": {},
   "outputs": [],
   "source": [
    "SAVE_RESULTS = False\n",
    "SEED_LIST = [1, 2, 25, 50, 1000, 1337, 2668, 3999, 12345, 54321]\n",
    "SEED_LIST = [1]\n",
    "N_EPOCHS = 70\n",
    "BATCH_SIZE = 25\n",
    "\n",
    "for seed_count, seed in enumerate(SEED_LIST):\n",
    "    print(f\"Training with seed {seed} ({seed_count+1}/{len(SEED_LIST)})\")\n",
    "    key = jax.random.PRNGKey(seed)\n",
    "    \n",
    "    # init model to be trained\n",
    "    key, model_init_key = jax.random.split(key)    \n",
    "    model_mlp_prdp = eqx.nn.MLP(\n",
    "        in_size=N_DOF**2, out_size=N_DOF**2, \n",
    "        width_size=MLP_WIDTH, depth=3, \n",
    "        activation=jax.nn.relu, \n",
    "        key=model_init_key,\n",
    "    )\n",
    "\n",
    "    # init optimizer\n",
    "    opt_state = optimizer.init(eqx.filter(model_mlp_prdp, eqx.is_array))\n",
    "    \n",
    "    # initialize metrics\n",
    "    n_inner_tracker = N_MIN\n",
    "    loss_hist_prdp = [loss_fn(model_mlp_prdp, data_trjs_direct, n_inner_tracker)]\n",
    "    error_hist_prdp = [val_loss(model_mlp_prdp, val_data_trjs)]\n",
    "    n_inner_hist_prdp = [np.nan] # no value at zeroth epoch, but need same list length as loss_hist\n",
    "    \n",
    "    # initialize PRDP's Nmax checkpoint error\n",
    "    should_refine.error_checkpoint = error_hist_prdp[-1][1] #[last_error][which-step error]\n",
    "\n",
    "    # training loop\n",
    "    key, shuffle_key = jax.random.split(key)\n",
    "    for epoch in range(N_EPOCHS):\n",
    "        shuffle_key, subkey = jax.random.split(shuffle_key)\n",
    "        loss_mini_batch = []\n",
    "        for batch in dataloader(data_trjs_direct, key=subkey, batch_size=BATCH_SIZE):\n",
    "            model_mlp_prdp, opt_state, loss = update_fn(model_mlp_prdp, opt_state, batch, \n",
    "                                                        n_inner_tracker)\n",
    "            loss_mini_batch.append(loss)\n",
    "        \n",
    "        loss_hist_prdp.append(np.mean(loss_mini_batch))\n",
    "        error_hist_prdp.append(val_loss(model_mlp_prdp, val_data_trjs))\n",
    "        n_inner_hist_prdp.append(n_inner_tracker)\n",
    "        print(f\"Epoch {epoch+1}/{N_EPOCHS}, n_inner: {n_inner_tracker}, loss: {loss_hist_prdp[-1]}, error: {error_hist_prdp[-1]}\")\n",
    "\n",
    "        # PRDP\n",
    "        if should_refine(np.array(error_hist_prdp)[:, 1],   # [all epochs, 2 step error]\n",
    "                         0.9, 0.9, 6, 3): \n",
    "            n_inner_tracker += N_STEP\n",
    "    \n",
    "    # SAVE\n",
    "    loss_hist_prdp = np.array(loss_hist_prdp)\n",
    "    error_hist_prdp = np.array(error_hist_prdp)\n",
    "    if SAVE_RESULTS:\n",
    "        df = pd.DataFrame({\n",
    "            \"losses\": [loss_hist_prdp],\n",
    "            \"1-step errors\": [error_hist_prdp[:,0]],\n",
    "            \"2-step errors\": [error_hist_prdp[:,1]],\n",
    "            \"n_inner\": [n_inner_hist_prdp],\n",
    "            \"max_iter\": \"PRDP\",\n",
    "            \"auto_using\": \"two-step-error\",\n",
    "            \"seed\": seed,\n",
    "        })\n",
    "        file_name = f\"results/heat_2d_sep17_jacobi_unrolled/maxiter_auto__seed_{seed}.pkl\"\n",
    "        df.to_pickle(file_name)\n",
    "    "
   ]
  },
  {
   "cell_type": "code",
   "execution_count": null,
   "metadata": {},
   "outputs": [],
   "source": [
    "error_hist_prdp = np.array(error_hist_prdp)\n",
    "\n",
    "fig, axs = plt.subplots(1, 3, figsize=(20, 5))\n",
    "last = 70\n",
    "\n",
    "for i, n_inner in enumerate(N_INNER_LIST):\n",
    "    axs[0].plot(losses_all_n[i], label=f\"{N_INNER_LIST[i]}\")\n",
    "    axs[1].plot(errors_all_n[i,:,0], label=f\"{N_INNER_LIST[i]}\")\n",
    "    axs[2].plot(errors_all_n[i,:,1], label=f\"{N_INNER_LIST[i]}\")\n",
    "\n",
    "axs[0].plot(loss_hist_prdp, label='PRDP', color='black')\n",
    "axs[1].plot(error_hist_prdp[:last, 0], label='PRDP', color='black')\n",
    "axs[2].plot(error_hist_prdp[:last, 1], label='PRDP', color='black')\n",
    "\n",
    "axs[0].set_xlabel('Epoch'); axs[0].set_ylabel('Loss (minibatch avg.)');\n",
    "axs[0].set_yscale('log'); axs[0].grid(); axs[0].set_ylim(1e-5, 1)\n",
    "\n",
    "axs[1].set_xlabel('Epoch'); axs[1].set_ylabel('1-step nMSE');\n",
    "axs[2].set_xlabel('Epoch'); axs[2].set_ylabel('2-step nMSE');\n",
    "axs[1].set_yscale('log'); axs[2].set_yscale('log');\n",
    "axs[1].grid(); axs[2].grid()\n",
    "axs[1].set_ylim(1e-3, 10); axs[2].set_ylim(1e-3, 10)\n",
    "\n",
    "plt.legend(bbox_to_anchor=(1.05, 1), loc='upper left', title=\"n_inner\")"
   ]
  }
 ],
 "metadata": {
  "kernelspec": {
   "display_name": "jax_fresh",
   "language": "python",
   "name": "python3"
  },
  "language_info": {
   "codemirror_mode": {
    "name": "ipython",
    "version": 3
   },
   "file_extension": ".py",
   "mimetype": "text/x-python",
   "name": "python",
   "nbconvert_exporter": "python",
   "pygments_lexer": "ipython3",
   "version": "3.10.14"
  }
 },
 "nbformat": 4,
 "nbformat_minor": 2
}
